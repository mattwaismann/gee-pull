{
 "cells": [
  {
   "cell_type": "code",
   "execution_count": 7,
   "id": "e739b3bb",
   "metadata": {},
   "outputs": [
    {
     "data": {
      "text/plain": [
       "<module 'ee_helpers' from '/Users/mattw/Desktop/projects/gee-pull/ee_helpers.py'>"
      ]
     },
     "execution_count": 7,
     "metadata": {},
     "output_type": "execute_result"
    }
   ],
   "source": [
    "import ee \n",
    "from datetime import datetime\n",
    "import os\n",
    "import geemap\n",
    "import ee_helpers\n",
    "import importlib\n",
    "importlib.reload(ee_helpers)"
   ]
  },
  {
   "cell_type": "code",
   "execution_count": 2,
   "id": "54583f40",
   "metadata": {},
   "outputs": [
    {
     "data": {
      "text/html": [
       "<p>To authorize access needed by Earth Engine, open the following\n",
       "        URL in a web browser and follow the instructions:</p>\n",
       "        <p><a href=https://accounts.google.com/o/oauth2/auth?client_id=517222506229-vsmmajv00ul0bs7p89v5m89qs8eb9359.apps.googleusercontent.com&scope=https%3A%2F%2Fwww.googleapis.com%2Fauth%2Fearthengine+https%3A%2F%2Fwww.googleapis.com%2Fauth%2Fdevstorage.full_control&redirect_uri=urn%3Aietf%3Awg%3Aoauth%3A2.0%3Aoob&response_type=code&code_challenge=R_tF8xPKS-feX4ZCO87gPToK22lTlZySkNLoRbGCbmE&code_challenge_method=S256>https://accounts.google.com/o/oauth2/auth?client_id=517222506229-vsmmajv00ul0bs7p89v5m89qs8eb9359.apps.googleusercontent.com&scope=https%3A%2F%2Fwww.googleapis.com%2Fauth%2Fearthengine+https%3A%2F%2Fwww.googleapis.com%2Fauth%2Fdevstorage.full_control&redirect_uri=urn%3Aietf%3Awg%3Aoauth%3A2.0%3Aoob&response_type=code&code_challenge=R_tF8xPKS-feX4ZCO87gPToK22lTlZySkNLoRbGCbmE&code_challenge_method=S256</a></p>\n",
       "        <p>The authorization workflow will generate a code, which you\n",
       "        should paste in the box below</p>\n",
       "        "
      ],
      "text/plain": [
       "<IPython.core.display.HTML object>"
      ]
     },
     "metadata": {},
     "output_type": "display_data"
    },
    {
     "name": "stdout",
     "output_type": "stream",
     "text": [
      "Enter verification code: 4/1AX4XfWiwLwSiYgx5d-b7g9XtijLWZ18ttzHYUx_zVpM2FD-B-lI13dAHd4E\n",
      "\n",
      "Successfully saved authorization token.\n"
     ]
    }
   ],
   "source": [
    "# Trigger the authentication flow\n",
    "ee.Authenticate()\n",
    "\n",
    "# Initialize the library\n",
    "ee.Initialize()"
   ]
  },
  {
   "cell_type": "code",
   "execution_count": 8,
   "id": "df0fca72",
   "metadata": {},
   "outputs": [
    {
     "name": "stdout",
     "output_type": "stream",
     "text": [
      "Generating URL ...\n",
      "Downloading data from https://earthengine.googleapis.com/v1alpha/projects/earthengine-legacy/thumbnails/86a0d3ea863e0200ec761b8d23ffd4bc-dccc1021c3cd1afe8db35f584a1aa6ee:getPixels\n",
      "Please wait ...\n",
      "Data downloaded to /Users/mattw/Desktop/projects/gee-pull/G000000000000N_DEM/G000000000000N_DEM.tif\n"
     ]
    }
   ],
   "source": [
    "glims_id = \"G000000000000N\"\n",
    "bounding_box = [(7.0089096, 45.978629149999996),\n",
    " (7.0466264, 45.978629149999996),\n",
    " (7.0466264, 46.02018385),\n",
    " (7.0089096, 46.02018385),\n",
    " (7.0089096, 45.978629149999996)]\n",
    "\n",
    "start_date = datetime(1990,1,1)\n",
    "end_date = datetime(1991,10,1)\n",
    "\n",
    "out_dir = glims_id\n",
    "out_dir_dem = glims_id + \"_DEM\"\n",
    "os.mkdir(out_dir_dem)\n",
    "\n",
    "ee_helpers.export_nasa_dems(glims_id, bounding_box, out_dir_dem)\n"
   ]
  },
  {
   "cell_type": "code",
   "execution_count": 9,
   "id": "88ce0822",
   "metadata": {},
   "outputs": [
    {
     "name": "stdout",
     "output_type": "stream",
     "text": [
      "Number of images in this collection:  29\n",
      "19900113\n",
      "Generating URL ...\n",
      "Downloading data from https://earthengine.googleapis.com/v1alpha/projects/earthengine-legacy/thumbnails/e652e246bbc844ef1eb4e78f5d2d55f7-4f4d32854ad98d27fbbccccd85590bf2:getPixels\n",
      "Please wait ...\n",
      "Data downloaded to /Users/mattw/Desktop/projects/gee-pull/G000000000000N/G000000000000N_19900113_Landsat5.tif\n",
      "19900129\n",
      "Generating URL ...\n",
      "Downloading data from https://earthengine.googleapis.com/v1alpha/projects/earthengine-legacy/thumbnails/57dc8e2229ebed2c20fe07c02692185f-b261bae895ca0fd9f4e49ffd4a0665c0:getPixels\n",
      "Please wait ...\n",
      "Data downloaded to /Users/mattw/Desktop/projects/gee-pull/G000000000000N/G000000000000N_19900129_Landsat5.tif\n",
      "19900377\n",
      "Generating URL ...\n",
      "Downloading data from https://earthengine.googleapis.com/v1alpha/projects/earthengine-legacy/thumbnails/80b74b209b2280a371d138003522cc9f-7324fd97cef583b35f94b48f7a774a4a:getPixels\n",
      "Please wait ...\n",
      "Data downloaded to /Users/mattw/Desktop/projects/gee-pull/G000000000000N/G000000000000N_19900377_Landsat5.tif\n",
      "199005125\n",
      "Generating URL ...\n",
      "Downloading data from https://earthengine.googleapis.com/v1alpha/projects/earthengine-legacy/thumbnails/71e425cb45b7fa33f8cae9f911bbad6f-7f572f335371e145974ab83c764b35f8:getPixels\n",
      "Please wait ...\n",
      "Data downloaded to /Users/mattw/Desktop/projects/gee-pull/G000000000000N/G000000000000N_199005125_Landsat5.tif\n",
      "199008221\n",
      "Generating URL ...\n",
      "Downloading data from https://earthengine.googleapis.com/v1alpha/projects/earthengine-legacy/thumbnails/2bbc0bf64b90690c57d13ce3fbd4ed93-629be853001b5f2e9bbb7ce3db6e7f7a:getPixels\n",
      "Please wait ...\n",
      "Data downloaded to /Users/mattw/Desktop/projects/gee-pull/G000000000000N/G000000000000N_199008221_Landsat5.tif\n",
      "199009253\n",
      "Generating URL ...\n",
      "Downloading data from https://earthengine.googleapis.com/v1alpha/projects/earthengine-legacy/thumbnails/e2f556351b0a2e483a550731ea92d9c1-f7261787dd480f4cba6f9b09e73ef1dd:getPixels\n",
      "Please wait ...\n",
      "Data downloaded to /Users/mattw/Desktop/projects/gee-pull/G000000000000N/G000000000000N_199009253_Landsat5.tif\n",
      "199105128\n",
      "Generating URL ...\n",
      "Downloading data from https://earthengine.googleapis.com/v1alpha/projects/earthengine-legacy/thumbnails/03ce9ac46a69558e25bec2015d92c9da-8d43ce9543c323fb7bb616347e9c44c9:getPixels\n",
      "Please wait ...\n",
      "Data downloaded to /Users/mattw/Desktop/projects/gee-pull/G000000000000N/G000000000000N_199105128_Landsat5.tif\n",
      "199106176\n",
      "Generating URL ...\n",
      "Downloading data from https://earthengine.googleapis.com/v1alpha/projects/earthengine-legacy/thumbnails/5fd732d6dc6620fe6b9ffe1ea944c67b-e8d314691f152f19445f05e3820607c9:getPixels\n",
      "Please wait ...\n",
      "Data downloaded to /Users/mattw/Desktop/projects/gee-pull/G000000000000N/G000000000000N_199106176_Landsat5.tif\n",
      "199107192\n",
      "Generating URL ...\n",
      "Downloading data from https://earthengine.googleapis.com/v1alpha/projects/earthengine-legacy/thumbnails/85287a75f903cd30e03dc7189a177117-e322bd71f4166d9ed4b308db29fc7b61:getPixels\n",
      "Please wait ...\n",
      "Data downloaded to /Users/mattw/Desktop/projects/gee-pull/G000000000000N/G000000000000N_199107192_Landsat5.tif\n",
      "199107208\n",
      "Generating URL ...\n",
      "Downloading data from https://earthengine.googleapis.com/v1alpha/projects/earthengine-legacy/thumbnails/85957c5adfcb565717e5d2064423160b-dd0857df327fcc9ac169515bb75ac10f:getPixels\n",
      "Please wait ...\n",
      "Data downloaded to /Users/mattw/Desktop/projects/gee-pull/G000000000000N/G000000000000N_199107208_Landsat5.tif\n",
      "199108224\n",
      "Generating URL ...\n",
      "Downloading data from https://earthengine.googleapis.com/v1alpha/projects/earthengine-legacy/thumbnails/1cdbc5717122c7151f029f0ee8b47302-e93cf06b242501b98ec5721ba1ebfdeb:getPixels\n",
      "Please wait ...\n",
      "Data downloaded to /Users/mattw/Desktop/projects/gee-pull/G000000000000N/G000000000000N_199108224_Landsat5.tif\n",
      "199108240\n",
      "Generating URL ...\n",
      "Downloading data from https://earthengine.googleapis.com/v1alpha/projects/earthengine-legacy/thumbnails/fe3bbbbc82179f0efacf8de0f8aa16de-411848a9b9bc76d758ee21d3542188d9:getPixels\n",
      "Please wait ...\n",
      "Data downloaded to /Users/mattw/Desktop/projects/gee-pull/G000000000000N/G000000000000N_199108240_Landsat5.tif\n",
      "199004100\n",
      "Generating URL ...\n",
      "Downloading data from https://earthengine.googleapis.com/v1alpha/projects/earthengine-legacy/thumbnails/1c818fba12df00bff1bb54b191ff40b3-8e7873c88a6622abd553328c3c9ec9c3:getPixels\n",
      "Please wait ...\n",
      "Data downloaded to /Users/mattw/Desktop/projects/gee-pull/G000000000000N/G000000000000N_199004100_Landsat5.tif\n",
      "199005132\n",
      "Generating URL ...\n",
      "Downloading data from https://earthengine.googleapis.com/v1alpha/projects/earthengine-legacy/thumbnails/e72465d5b5df746d98e04c4328e18bb3-deaaeb310d1b553a32d6f3a0a5c9cbe1:getPixels\n",
      "Please wait ...\n",
      "Data downloaded to /Users/mattw/Desktop/projects/gee-pull/G000000000000N/G000000000000N_199005132_Landsat5.tif\n",
      "199005148\n",
      "Generating URL ...\n",
      "Downloading data from https://earthengine.googleapis.com/v1alpha/projects/earthengine-legacy/thumbnails/3ff4cc2bacdbe846ffe3181764638f83-a1bebed9fb94b46d7bd5bc8638f4ac21:getPixels\n",
      "Please wait ...\n",
      "Data downloaded to /Users/mattw/Desktop/projects/gee-pull/G000000000000N/G000000000000N_199005148_Landsat5.tif\n",
      "199006180\n",
      "Generating URL ...\n",
      "Downloading data from https://earthengine.googleapis.com/v1alpha/projects/earthengine-legacy/thumbnails/8d654ee61fcd3bb733004fa101f0f024-d0e543e4587a007beba67dc8479e4b2e:getPixels\n",
      "Please wait ...\n",
      "Data downloaded to /Users/mattw/Desktop/projects/gee-pull/G000000000000N/G000000000000N_199006180_Landsat5.tif\n",
      "199007196\n",
      "Generating URL ...\n",
      "Downloading data from https://earthengine.googleapis.com/v1alpha/projects/earthengine-legacy/thumbnails/9154093630ffe19c559aaf392a5f42ee-1fea3ce0a1acb952fa3d9b09e84bea44:getPixels\n",
      "Please wait ...\n",
      "Data downloaded to /Users/mattw/Desktop/projects/gee-pull/G000000000000N/G000000000000N_199007196_Landsat5.tif\n",
      "199007212\n",
      "Generating URL ...\n",
      "Downloading data from https://earthengine.googleapis.com/v1alpha/projects/earthengine-legacy/thumbnails/4727825f7f6eb1a9b5cf338ed311b3f5-4716bdfbbf696050a30eb0c71589736e:getPixels\n",
      "Please wait ...\n",
      "Data downloaded to /Users/mattw/Desktop/projects/gee-pull/G000000000000N/G000000000000N_199007212_Landsat5.tif\n",
      "199008228\n",
      "Generating URL ...\n",
      "Downloading data from https://earthengine.googleapis.com/v1alpha/projects/earthengine-legacy/thumbnails/eedb6b4a5074319937a72a0e5b1ab4d4-575792895334278726344b16e245a135:getPixels\n",
      "Please wait ...\n",
      "Data downloaded to /Users/mattw/Desktop/projects/gee-pull/G000000000000N/G000000000000N_199008228_Landsat5.tif\n",
      "199009244\n",
      "Generating URL ...\n",
      "Downloading data from https://earthengine.googleapis.com/v1alpha/projects/earthengine-legacy/thumbnails/bb43b67d99ac405a2c72033986d18f78-366b3ff8ee97f63896d9112023351d34:getPixels\n",
      "Please wait ...\n",
      "Data downloaded to /Users/mattw/Desktop/projects/gee-pull/G000000000000N/G000000000000N_199009244_Landsat5.tif\n",
      "199010276\n",
      "Generating URL ...\n",
      "Downloading data from https://earthengine.googleapis.com/v1alpha/projects/earthengine-legacy/thumbnails/81e9eb20668f9fe09377e48d32bcbd32-7bb32d3826b542f2045592ad7a50402f:getPixels\n",
      "Please wait ...\n",
      "Data downloaded to /Users/mattw/Desktop/projects/gee-pull/G000000000000N/G000000000000N_199010276_Landsat5.tif\n",
      "199010292\n",
      "Generating URL ...\n",
      "Downloading data from https://earthengine.googleapis.com/v1alpha/projects/earthengine-legacy/thumbnails/94ef225c5855e3edfdbb29d306dd8a50-a5c1a1e5c46ef92c2ee96cae146e91ad:getPixels\n",
      "Please wait ...\n",
      "Data downloaded to /Users/mattw/Desktop/projects/gee-pull/G000000000000N/G000000000000N_199010292_Landsat5.tif\n",
      "199012340\n",
      "Generating URL ...\n",
      "Downloading data from https://earthengine.googleapis.com/v1alpha/projects/earthengine-legacy/thumbnails/ebc72141df4863201f96a3ab5952903d-0f41efcb24a56052d29b0669c371006b:getPixels\n",
      "Please wait ...\n",
      "Data downloaded to /Users/mattw/Desktop/projects/gee-pull/G000000000000N/G000000000000N_199012340_Landsat5.tif\n",
      "19910255\n",
      "Generating URL ...\n",
      "Downloading data from https://earthengine.googleapis.com/v1alpha/projects/earthengine-legacy/thumbnails/0d06f20e03b75731fc7b320a010c4d27-c6b88b196faad3e2e49cd517e969a69f:getPixels\n",
      "Please wait ...\n",
      "Data downloaded to /Users/mattw/Desktop/projects/gee-pull/G000000000000N/G000000000000N_19910255_Landsat5.tif\n",
      "19910371\n",
      "Generating URL ...\n",
      "Downloading data from https://earthengine.googleapis.com/v1alpha/projects/earthengine-legacy/thumbnails/a364eb8aa017181a2bde8e6a48c56d3c-f3f64372568692749a35b2ba8aa3cb66:getPixels\n",
      "Please wait ...\n"
     ]
    },
    {
     "name": "stdout",
     "output_type": "stream",
     "text": [
      "Data downloaded to /Users/mattw/Desktop/projects/gee-pull/G000000000000N/G000000000000N_19910371_Landsat5.tif\n",
      "199105151\n",
      "Generating URL ...\n",
      "Downloading data from https://earthengine.googleapis.com/v1alpha/projects/earthengine-legacy/thumbnails/12add35be1bd13b76649cf81ea3ec31c-0cc7075ee72f0c5ae9b4d7606800aa67:getPixels\n",
      "Please wait ...\n",
      "Data downloaded to /Users/mattw/Desktop/projects/gee-pull/G000000000000N/G000000000000N_199105151_Landsat5.tif\n",
      "199107199\n",
      "Generating URL ...\n",
      "Downloading data from https://earthengine.googleapis.com/v1alpha/projects/earthengine-legacy/thumbnails/2b808ad0b696627991d0021e63546362-e8352556f2cdbd5f85fdc57ce31f6b03:getPixels\n",
      "Please wait ...\n",
      "Data downloaded to /Users/mattw/Desktop/projects/gee-pull/G000000000000N/G000000000000N_199107199_Landsat5.tif\n",
      "199108231\n",
      "Generating URL ...\n",
      "Downloading data from https://earthengine.googleapis.com/v1alpha/projects/earthengine-legacy/thumbnails/60c49e5eb75513a007cdb20069472bc5-01206210c7e381cd62b0b1926bb43b24:getPixels\n",
      "Please wait ...\n",
      "Data downloaded to /Users/mattw/Desktop/projects/gee-pull/G000000000000N/G000000000000N_199108231_Landsat5.tif\n",
      "199109247\n",
      "Generating URL ...\n",
      "Downloading data from https://earthengine.googleapis.com/v1alpha/projects/earthengine-legacy/thumbnails/1eae3851aaa7a8a77105795a986fb7ca-02cdf5dac27538d0317f14719a5972b7:getPixels\n",
      "Please wait ...\n",
      "Data downloaded to /Users/mattw/Desktop/projects/gee-pull/G000000000000N/G000000000000N_199109247_Landsat5.tif\n"
     ]
    }
   ],
   "source": [
    "os.mkdir(out_dir)\n",
    "ee_helpers.export_landsat_five_images(glims_id,\n",
    "                                      bounding_box,\n",
    "                                      start_date,\n",
    "                                      end_date,\n",
    "                                      out_dir,\n",
    "                                      cloudy_pixel_percentage = 50)"
   ]
  },
  {
   "cell_type": "code",
   "execution_count": null,
   "id": "6e3b846c",
   "metadata": {},
   "outputs": [],
   "source": []
  }
 ],
 "metadata": {
  "kernelspec": {
   "display_name": "Python 3 (ipykernel)",
   "language": "python",
   "name": "python3"
  },
  "language_info": {
   "codemirror_mode": {
    "name": "ipython",
    "version": 3
   },
   "file_extension": ".py",
   "mimetype": "text/x-python",
   "name": "python",
   "nbconvert_exporter": "python",
   "pygments_lexer": "ipython3",
   "version": "3.9.7"
  }
 },
 "nbformat": 4,
 "nbformat_minor": 5
}
