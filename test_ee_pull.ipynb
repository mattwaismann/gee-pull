{
 "cells": [
  {
   "cell_type": "code",
   "execution_count": 54,
   "id": "25b697ea",
   "metadata": {},
   "outputs": [],
   "source": [
    "import rasterio"
   ]
  },
  {
   "cell_type": "code",
   "execution_count": 55,
   "id": "062bf956",
   "metadata": {},
   "outputs": [],
   "source": [
    "with rasterio.open(\"/Users/mattw/Desktop/projects/gee-pull/G000000000000N/G000000000000N_19900113_Landsat5.tif\") as f:\n",
    "    landsat_img = f.read()"
   ]
  },
  {
   "cell_type": "code",
   "execution_count": 56,
   "id": "124f2142",
   "metadata": {},
   "outputs": [],
   "source": [
    "with rasterio.open(\"/Users/mattw/Desktop/projects/gee-pull/G000000000000N_DEM/G000000000000N_DEM.tif\") as f:\n",
    "    dem_img = f.read()"
   ]
  },
  {
   "cell_type": "code",
   "execution_count": 57,
   "id": "fa5cad63",
   "metadata": {},
   "outputs": [
    {
     "name": "stdout",
     "output_type": "stream",
     "text": [
      "Landsat shape: (8, 158, 102) \n",
      " DEM shape:(3, 155, 141)\n"
     ]
    }
   ],
   "source": [
    "print(f\"Landsat shape: {landsat_img.shape}\", \"\\n\", f\"DEM shape:{dem_img.shape}\")"
   ]
  },
  {
   "cell_type": "code",
   "execution_count": 58,
   "id": "a84693b2",
   "metadata": {},
   "outputs": [],
   "source": [
    "from rasterio.warp import calculate_default_transform, reproject, Resampling\n",
    "\n",
    "dst_crs = 'EPSG:4326'\n",
    "\n",
    "with rasterio.open(\"/Users/mattw/Desktop/projects/gee-pull/G000000000000N/G000000000000N_19900113_Landsat5.tif\") as src:\n",
    "    transform, width, height = calculate_default_transform(\n",
    "        src.crs, dst_crs, src.width, src.height, *src.bounds)\n",
    "    kwargs = src.meta.copy()\n",
    "    kwargs.update({\n",
    "        'crs': dst_crs,\n",
    "        'transform': transform,\n",
    "        'width': width,\n",
    "        'height': height\n",
    "    })\n",
    "\n",
    "    with rasterio.open(\"new.tif\", 'w', **kwargs) as dst:\n",
    "        for i in range(1, src.count + 1):\n",
    "            reproject(\n",
    "                source=rasterio.band(src, i),\n",
    "                destination=rasterio.band(dst, i),\n",
    "                src_transform=src.transform,\n",
    "                src_crs=src.crs,\n",
    "                dst_transform=transform,\n",
    "                dst_crs=dst_crs,\n",
    "                resampling=Resampling.nearest)\n",
    "            \n",
    "\n",
    "with rasterio.open(\"/Users/mattw/Desktop/projects/gee-pull/G000000000000N_DEM/G000000000000N_DEM.tif\") as src:\n",
    "    transform, width, height = calculate_default_transform(\n",
    "        src.crs, dst_crs, src.width, src.height, *src.bounds)\n",
    "    kwargs = src.meta.copy()\n",
    "    kwargs.update({\n",
    "        'crs': dst_crs,\n",
    "        'transform': transform,\n",
    "        'width': width,\n",
    "        'height': height\n",
    "    })\n",
    "\n",
    "    with rasterio.open(\"new_dem.tif\", 'w', **kwargs) as dst:\n",
    "        for i in range(1, src.count + 1):\n",
    "            reproject(\n",
    "                source=rasterio.band(src, i),\n",
    "                destination=rasterio.band(dst, i),\n",
    "                src_transform=src.transform,\n",
    "                src_crs=src.crs,\n",
    "                dst_transform=transform,\n",
    "                dst_crs=dst_crs,\n",
    "                resampling=Resampling.nearest)"
   ]
  },
  {
   "cell_type": "code",
   "execution_count": 59,
   "id": "b2dd8c9a",
   "metadata": {},
   "outputs": [],
   "source": [
    "with rasterio.open(\"/Users/mattw/Desktop/projects/gee-pull/new.tif\") as f:\n",
    "    landsat_reprojected_img = f.read()\n",
    "\n",
    "with rasterio.open(\"/Users/mattw/Desktop/projects/gee-pull/new_dem.tif\") as f:\n",
    "    dem_reprojected_img = f.read()"
   ]
  },
  {
   "cell_type": "markdown",
   "id": "c26ac912",
   "metadata": {},
   "source": [
    "My research suggests different shapes because of slight variations in resolution. For example, some Landsat images may be at 30m while others are at 29m. "
   ]
  },
  {
   "cell_type": "code",
   "execution_count": 60,
   "id": "0dc20be3",
   "metadata": {},
   "outputs": [
    {
     "name": "stdout",
     "output_type": "stream",
     "text": [
      "Landsat shape: (8, 158, 102) \n",
      " Reprojected Landsat shape: (8, 139, 131) \n",
      " DEM shape:(3, 155, 141) \n",
      " Reprojected DEM shape: (3, 155, 141)\n"
     ]
    }
   ],
   "source": [
    "print(f\"Landsat shape: {landsat_img.shape}\", \"\\n\",\n",
    "      f\"Reprojected Landsat shape: {landsat_reprojected_img.shape}\", \"\\n\", \n",
    "      f\"DEM shape:{dem_img.shape}\", \"\\n\",\n",
    "      f\"Reprojected DEM shape: {dem_reprojected_img.shape}\")"
   ]
  },
  {
   "cell_type": "code",
   "execution_count": null,
   "id": "68d47c9a",
   "metadata": {},
   "outputs": [],
   "source": []
  }
 ],
 "metadata": {
  "kernelspec": {
   "display_name": "Python 3 (ipykernel)",
   "language": "python",
   "name": "python3"
  },
  "language_info": {
   "codemirror_mode": {
    "name": "ipython",
    "version": 3
   },
   "file_extension": ".py",
   "mimetype": "text/x-python",
   "name": "python",
   "nbconvert_exporter": "python",
   "pygments_lexer": "ipython3",
   "version": "3.9.7"
  }
 },
 "nbformat": 4,
 "nbformat_minor": 5
}
